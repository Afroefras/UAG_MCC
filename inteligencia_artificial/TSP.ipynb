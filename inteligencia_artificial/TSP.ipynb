{
 "cells": [
  {
   "cell_type": "markdown",
   "metadata": {},
   "source": [
    "# Coordenadas de las ciudades"
   ]
  },
  {
   "cell_type": "code",
   "execution_count": 4,
   "metadata": {},
   "outputs": [],
   "source": [
    "cities = [\n",
    "    (1,3), (2,5), (2,7), (4,2), (4,4), \n",
    "    (4,7), (4,8), (5,3), (6,1), (6,6), \n",
    "    (7,8), (8,2), (8,7), (9,3), (10,7), \n",
    "    (11,1), (11,4), (11,6), (12,7), (13,5),\n",
    "]"
   ]
  },
  {
   "cell_type": "markdown",
   "metadata": {},
   "source": [
    "# Parámetros iniciales"
   ]
  },
  {
   "cell_type": "code",
   "execution_count": 5,
   "metadata": {},
   "outputs": [],
   "source": [
    "from tsp.train import TSP\n",
    "\n",
    "tsp = TSP(cities, population_size=100, n_generations=100, tournament_size=0.07)"
   ]
  },
  {
   "cell_type": "markdown",
   "metadata": {},
   "source": [
    "# Comparando métodos de reproducción"
   ]
  },
  {
   "cell_type": "markdown",
   "metadata": {},
   "source": [
    "## Enroque"
   ]
  },
  {
   "cell_type": "code",
   "execution_count": 3,
   "metadata": {},
   "outputs": [],
   "source": [
    "tsp.train(reprod_functions=[tsp.castling_reprod])"
   ]
  },
  {
   "cell_type": "markdown",
   "metadata": {},
   "source": [
    "## Inversión"
   ]
  },
  {
   "cell_type": "code",
   "execution_count": null,
   "metadata": {},
   "outputs": [],
   "source": [
    "tsp.train(reprod_functions=[tsp.inversion_reprod])"
   ]
  },
  {
   "cell_type": "markdown",
   "metadata": {},
   "source": [
    "## Combinación de ambos"
   ]
  },
  {
   "cell_type": "code",
   "execution_count": null,
   "metadata": {},
   "outputs": [],
   "source": [
    "tsp.train(reprod_functions=[tsp.castling_reprod, tsp.inversion_reprod])"
   ]
  },
  {
   "cell_type": "markdown",
   "metadata": {},
   "source": [
    "# Inversión es mejor para este problema\n",
    "## (veamos la evolución animada)"
   ]
  },
  {
   "cell_type": "code",
   "execution_count": 7,
   "metadata": {},
   "outputs": [],
   "source": [
    "tsp.train(reprod_functions=[tsp.inversion_reprod])"
   ]
  },
  {
   "cell_type": "code",
   "execution_count": 8,
   "metadata": {},
   "outputs": [
    {
     "data": {
      "text/html": [
       "<div>\n",
       "<style scoped>\n",
       "    .dataframe tbody tr th:only-of-type {\n",
       "        vertical-align: middle;\n",
       "    }\n",
       "\n",
       "    .dataframe tbody tr th {\n",
       "        vertical-align: top;\n",
       "    }\n",
       "\n",
       "    .dataframe thead th {\n",
       "        text-align: right;\n",
       "    }\n",
       "</style>\n",
       "<table border=\"1\" class=\"dataframe\">\n",
       "  <thead>\n",
       "    <tr style=\"text-align: right;\">\n",
       "      <th></th>\n",
       "      <th>cities</th>\n",
       "      <th>route</th>\n",
       "      <th>distance</th>\n",
       "    </tr>\n",
       "  </thead>\n",
       "  <tbody>\n",
       "    <tr>\n",
       "      <th>0</th>\n",
       "      <td>[6, 15, 16, 19, 18, 2, 5, 3, 0, 13, 12, 10, 7,...</td>\n",
       "      <td>[(6, 15), (15, 16), (16, 19), (19, 18), (18, 2...</td>\n",
       "      <td>84.985922</td>\n",
       "    </tr>\n",
       "    <tr>\n",
       "      <th>1</th>\n",
       "      <td>[6, 15, 16, 19, 18, 2, 5, 3, 0, 13, 12, 10, 7,...</td>\n",
       "      <td>[(6, 15), (15, 16), (16, 19), (19, 18), (18, 2...</td>\n",
       "      <td>78.233677</td>\n",
       "    </tr>\n",
       "    <tr>\n",
       "      <th>2</th>\n",
       "      <td>[6, 4, 8, 11, 1, 9, 7, 10, 12, 13, 0, 3, 5, 2,...</td>\n",
       "      <td>[(6, 4), (4, 8), (8, 11), (11, 1), (1, 9), (9,...</td>\n",
       "      <td>76.806318</td>\n",
       "    </tr>\n",
       "    <tr>\n",
       "      <th>3</th>\n",
       "      <td>[6, 15, 16, 19, 18, 10, 12, 13, 0, 3, 5, 2, 7,...</td>\n",
       "      <td>[(6, 15), (15, 16), (16, 19), (19, 18), (18, 1...</td>\n",
       "      <td>72.947531</td>\n",
       "    </tr>\n",
       "    <tr>\n",
       "      <th>4</th>\n",
       "      <td>[6, 15, 16, 14, 17, 11, 8, 4, 1, 2, 5, 3, 0, 7...</td>\n",
       "      <td>[(6, 15), (15, 16), (16, 14), (14, 17), (17, 1...</td>\n",
       "      <td>70.199906</td>\n",
       "    </tr>\n",
       "    <tr>\n",
       "      <th>...</th>\n",
       "      <td>...</td>\n",
       "      <td>...</td>\n",
       "      <td>...</td>\n",
       "    </tr>\n",
       "    <tr>\n",
       "      <th>95</th>\n",
       "      <td>[19, 18, 17, 14, 12, 10, 9, 5, 6, 2, 1, 0, 4, ...</td>\n",
       "      <td>[(19, 18), (18, 17), (17, 14), (14, 12), (12, ...</td>\n",
       "      <td>37.536103</td>\n",
       "    </tr>\n",
       "    <tr>\n",
       "      <th>96</th>\n",
       "      <td>[13, 11, 8, 3, 7, 4, 0, 1, 2, 6, 5, 9, 10, 12,...</td>\n",
       "      <td>[(13, 11), (11, 8), (8, 3), (3, 7), (7, 4), (4...</td>\n",
       "      <td>37.536103</td>\n",
       "    </tr>\n",
       "    <tr>\n",
       "      <th>97</th>\n",
       "      <td>[13, 11, 8, 3, 7, 4, 0, 1, 2, 6, 5, 9, 10, 12,...</td>\n",
       "      <td>[(13, 11), (11, 8), (8, 3), (3, 7), (7, 4), (4...</td>\n",
       "      <td>37.536103</td>\n",
       "    </tr>\n",
       "    <tr>\n",
       "      <th>98</th>\n",
       "      <td>[13, 11, 8, 3, 7, 4, 0, 1, 2, 6, 5, 9, 10, 12,...</td>\n",
       "      <td>[(13, 11), (11, 8), (8, 3), (3, 7), (7, 4), (4...</td>\n",
       "      <td>37.536103</td>\n",
       "    </tr>\n",
       "    <tr>\n",
       "      <th>99</th>\n",
       "      <td>[13, 11, 8, 3, 7, 4, 0, 1, 2, 6, 5, 9, 10, 12,...</td>\n",
       "      <td>[(13, 11), (11, 8), (8, 3), (3, 7), (7, 4), (4...</td>\n",
       "      <td>37.536103</td>\n",
       "    </tr>\n",
       "  </tbody>\n",
       "</table>\n",
       "<p>100 rows × 3 columns</p>\n",
       "</div>"
      ],
      "text/plain": [
       "                                               cities  \\\n",
       "0   [6, 15, 16, 19, 18, 2, 5, 3, 0, 13, 12, 10, 7,...   \n",
       "1   [6, 15, 16, 19, 18, 2, 5, 3, 0, 13, 12, 10, 7,...   \n",
       "2   [6, 4, 8, 11, 1, 9, 7, 10, 12, 13, 0, 3, 5, 2,...   \n",
       "3   [6, 15, 16, 19, 18, 10, 12, 13, 0, 3, 5, 2, 7,...   \n",
       "4   [6, 15, 16, 14, 17, 11, 8, 4, 1, 2, 5, 3, 0, 7...   \n",
       "..                                                ...   \n",
       "95  [19, 18, 17, 14, 12, 10, 9, 5, 6, 2, 1, 0, 4, ...   \n",
       "96  [13, 11, 8, 3, 7, 4, 0, 1, 2, 6, 5, 9, 10, 12,...   \n",
       "97  [13, 11, 8, 3, 7, 4, 0, 1, 2, 6, 5, 9, 10, 12,...   \n",
       "98  [13, 11, 8, 3, 7, 4, 0, 1, 2, 6, 5, 9, 10, 12,...   \n",
       "99  [13, 11, 8, 3, 7, 4, 0, 1, 2, 6, 5, 9, 10, 12,...   \n",
       "\n",
       "                                                route   distance  \n",
       "0   [(6, 15), (15, 16), (16, 19), (19, 18), (18, 2...  84.985922  \n",
       "1   [(6, 15), (15, 16), (16, 19), (19, 18), (18, 2...  78.233677  \n",
       "2   [(6, 4), (4, 8), (8, 11), (11, 1), (1, 9), (9,...  76.806318  \n",
       "3   [(6, 15), (15, 16), (16, 19), (19, 18), (18, 1...  72.947531  \n",
       "4   [(6, 15), (15, 16), (16, 14), (14, 17), (17, 1...  70.199906  \n",
       "..                                                ...        ...  \n",
       "95  [(19, 18), (18, 17), (17, 14), (14, 12), (12, ...  37.536103  \n",
       "96  [(13, 11), (11, 8), (8, 3), (3, 7), (7, 4), (4...  37.536103  \n",
       "97  [(13, 11), (11, 8), (8, 3), (3, 7), (7, 4), (4...  37.536103  \n",
       "98  [(13, 11), (11, 8), (8, 3), (3, 7), (7, 4), (4...  37.536103  \n",
       "99  [(13, 11), (11, 8), (8, 3), (3, 7), (7, 4), (4...  37.536103  \n",
       "\n",
       "[100 rows x 3 columns]"
      ]
     },
     "execution_count": 8,
     "metadata": {},
     "output_type": "execute_result"
    }
   ],
   "source": [
    "tsp.result"
   ]
  }
 ],
 "metadata": {
  "kernelspec": {
   "display_name": "Python 3.9.13 ('uag_mcc_venv': venv)",
   "language": "python",
   "name": "python3"
  },
  "language_info": {
   "codemirror_mode": {
    "name": "ipython",
    "version": 3
   },
   "file_extension": ".py",
   "mimetype": "text/x-python",
   "name": "python",
   "nbconvert_exporter": "python",
   "pygments_lexer": "ipython3",
   "version": "3.9.13"
  },
  "orig_nbformat": 4,
  "vscode": {
   "interpreter": {
    "hash": "3c4cdad7c2a806a0858e58cf4105661a6c812827611e4b56656772d7e08d25bd"
   }
  }
 },
 "nbformat": 4,
 "nbformat_minor": 2
}
