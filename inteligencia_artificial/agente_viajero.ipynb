{
 "cells": [
  {
   "cell_type": "code",
   "execution_count": null,
   "metadata": {},
   "outputs": [
    {
     "ename": "",
     "evalue": "",
     "output_type": "error",
     "traceback": [
      "\u001b[1;31mRunning cells with 'Python 3.9.13 ('uag_mcc_venv': venv)' requires ipykernel package.\n",
      "\u001b[1;31mRun the following command to install 'ipykernel' into the Python environment. \n",
      "\u001b[1;31mCommand: '/Users/efrain.flores/Desktop/hub/UAG_MCC/uag_mcc_venv/bin/python -m pip install ipykernel -U --force-reinstall'"
     ]
    }
   ],
   "source": [
    "from agente_viajero import AgenteViajero\n",
    "\n",
    "cities = [\n",
    "    (1,3), (2,5), (2,7), (4,2), (4,4), \n",
    "    (4,7), (4,8), (5,3), (6,1), (6,6), \n",
    "    (7,8), (8,2), (8,7), (9,3), (10,7), \n",
    "    (11,1), (11,4), (11,6), (12,7), (13,5),\n",
    "]\n",
    "\n",
    "av = AgenteViajero(cities, population_size=100, n_generations=100)\n",
    "av.train()\n",
    "av.result"
   ]
  }
 ],
 "metadata": {
  "kernelspec": {
   "display_name": "Python 3.9.13 ('uag_mcc_venv': venv)",
   "language": "python",
   "name": "python3"
  },
  "language_info": {
   "codemirror_mode": {
    "name": "ipython",
    "version": 3
   },
   "file_extension": ".py",
   "mimetype": "text/x-python",
   "name": "python",
   "nbconvert_exporter": "python",
   "pygments_lexer": "ipython3",
   "version": "3.9.13"
  },
  "orig_nbformat": 4,
  "vscode": {
   "interpreter": {
    "hash": "3c4cdad7c2a806a0858e58cf4105661a6c812827611e4b56656772d7e08d25bd"
   }
  }
 },
 "nbformat": 4,
 "nbformat_minor": 2
}
