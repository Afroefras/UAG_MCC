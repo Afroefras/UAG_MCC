{
 "cells": [
  {
   "cell_type": "code",
   "execution_count": 1,
   "metadata": {},
   "outputs": [
    {
     "data": {
      "text/html": [
       "<div>\n",
       "<style scoped>\n",
       "    .dataframe tbody tr th:only-of-type {\n",
       "        vertical-align: middle;\n",
       "    }\n",
       "\n",
       "    .dataframe tbody tr th {\n",
       "        vertical-align: top;\n",
       "    }\n",
       "\n",
       "    .dataframe thead th {\n",
       "        text-align: right;\n",
       "    }\n",
       "</style>\n",
       "<table border=\"1\" class=\"dataframe\">\n",
       "  <thead>\n",
       "    <tr style=\"text-align: right;\">\n",
       "      <th></th>\n",
       "      <th>top_route</th>\n",
       "      <th>top_dist</th>\n",
       "    </tr>\n",
       "  </thead>\n",
       "  <tbody>\n",
       "    <tr>\n",
       "      <th>0</th>\n",
       "      <td>[(7, 8), (4, 8), (2, 5), (4, 4), (1, 3), (9, 3...</td>\n",
       "      <td>77.683762</td>\n",
       "    </tr>\n",
       "    <tr>\n",
       "      <th>1</th>\n",
       "      <td>[(7, 8), (4, 8), (2, 5), (4, 4), (1, 3), (9, 3...</td>\n",
       "      <td>75.958676</td>\n",
       "    </tr>\n",
       "    <tr>\n",
       "      <th>2</th>\n",
       "      <td>[(7, 8), (4, 8), (2, 5), (4, 4), (1, 3), (6, 6...</td>\n",
       "      <td>69.719374</td>\n",
       "    </tr>\n",
       "    <tr>\n",
       "      <th>3</th>\n",
       "      <td>[(7, 8), (4, 8), (2, 5), (4, 4), (1, 3), (9, 3...</td>\n",
       "      <td>66.860533</td>\n",
       "    </tr>\n",
       "    <tr>\n",
       "      <th>4</th>\n",
       "      <td>[(7, 8), (4, 8), (6, 6), (11, 1), (10, 7), (12...</td>\n",
       "      <td>65.339242</td>\n",
       "    </tr>\n",
       "    <tr>\n",
       "      <th>...</th>\n",
       "      <td>...</td>\n",
       "      <td>...</td>\n",
       "    </tr>\n",
       "    <tr>\n",
       "      <th>95</th>\n",
       "      <td>[(2, 7), (4, 8), (4, 7), (6, 6), (7, 8), (8, 7...</td>\n",
       "      <td>38.024107</td>\n",
       "    </tr>\n",
       "    <tr>\n",
       "      <th>96</th>\n",
       "      <td>[(2, 7), (4, 8), (4, 7), (6, 6), (7, 8), (8, 7...</td>\n",
       "      <td>37.438320</td>\n",
       "    </tr>\n",
       "    <tr>\n",
       "      <th>97</th>\n",
       "      <td>[(2, 7), (4, 8), (4, 7), (6, 6), (7, 8), (8, 7...</td>\n",
       "      <td>38.024107</td>\n",
       "    </tr>\n",
       "    <tr>\n",
       "      <th>98</th>\n",
       "      <td>[(2, 7), (4, 8), (4, 7), (6, 6), (7, 8), (8, 7...</td>\n",
       "      <td>38.950316</td>\n",
       "    </tr>\n",
       "    <tr>\n",
       "      <th>99</th>\n",
       "      <td>[(2, 7), (4, 8), (4, 7), (6, 6), (7, 8), (8, 7...</td>\n",
       "      <td>38.024107</td>\n",
       "    </tr>\n",
       "  </tbody>\n",
       "</table>\n",
       "<p>100 rows × 2 columns</p>\n",
       "</div>"
      ],
      "text/plain": [
       "                                            top_route   top_dist\n",
       "0   [(7, 8), (4, 8), (2, 5), (4, 4), (1, 3), (9, 3...  77.683762\n",
       "1   [(7, 8), (4, 8), (2, 5), (4, 4), (1, 3), (9, 3...  75.958676\n",
       "2   [(7, 8), (4, 8), (2, 5), (4, 4), (1, 3), (6, 6...  69.719374\n",
       "3   [(7, 8), (4, 8), (2, 5), (4, 4), (1, 3), (9, 3...  66.860533\n",
       "4   [(7, 8), (4, 8), (6, 6), (11, 1), (10, 7), (12...  65.339242\n",
       "..                                                ...        ...\n",
       "95  [(2, 7), (4, 8), (4, 7), (6, 6), (7, 8), (8, 7...  38.024107\n",
       "96  [(2, 7), (4, 8), (4, 7), (6, 6), (7, 8), (8, 7...  37.438320\n",
       "97  [(2, 7), (4, 8), (4, 7), (6, 6), (7, 8), (8, 7...  38.024107\n",
       "98  [(2, 7), (4, 8), (4, 7), (6, 6), (7, 8), (8, 7...  38.950316\n",
       "99  [(2, 7), (4, 8), (4, 7), (6, 6), (7, 8), (8, 7...  38.024107\n",
       "\n",
       "[100 rows x 2 columns]"
      ]
     },
     "execution_count": 1,
     "metadata": {},
     "output_type": "execute_result"
    }
   ],
   "source": [
    "from agente_viajero import AgenteViajero\n",
    "\n",
    "cities = [\n",
    "    (1,3), (2,5), (2,7), (4,2), (4,4), \n",
    "    (4,7), (4,8), (5,3), (6,1), (6,6), \n",
    "    (7,8), (8,2), (8,7), (9,3), (10,7), \n",
    "    (11,1), (11,4), (11,6), (12,7), (13,5),\n",
    "]\n",
    "\n",
    "av = AgenteViajero(cities, population_size=100, n_generations=100)\n",
    "av.train()\n",
    "av.result"
   ]
  }
 ],
 "metadata": {
  "kernelspec": {
   "display_name": "Python 3.10.4 ('venv': venv)",
   "language": "python",
   "name": "python3"
  },
  "language_info": {
   "codemirror_mode": {
    "name": "ipython",
    "version": 3
   },
   "file_extension": ".py",
   "mimetype": "text/x-python",
   "name": "python",
   "nbconvert_exporter": "python",
   "pygments_lexer": "ipython3",
   "version": "3.10.4"
  },
  "orig_nbformat": 4,
  "vscode": {
   "interpreter": {
    "hash": "46f0d50908f532c4d87f4e46497f20a01f2c47f356942e2607bec2358d7bcb33"
   }
  }
 },
 "nbformat": 4,
 "nbformat_minor": 2
}
