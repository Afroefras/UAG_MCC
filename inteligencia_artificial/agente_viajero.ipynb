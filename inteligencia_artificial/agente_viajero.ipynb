{
 "cells": [
  {
   "cell_type": "code",
   "execution_count": 1,
   "metadata": {},
   "outputs": [
    {
     "data": {
      "text/html": [
       "<div>\n",
       "<style scoped>\n",
       "    .dataframe tbody tr th:only-of-type {\n",
       "        vertical-align: middle;\n",
       "    }\n",
       "\n",
       "    .dataframe tbody tr th {\n",
       "        vertical-align: top;\n",
       "    }\n",
       "\n",
       "    .dataframe thead th {\n",
       "        text-align: right;\n",
       "    }\n",
       "</style>\n",
       "<table border=\"1\" class=\"dataframe\">\n",
       "  <thead>\n",
       "    <tr style=\"text-align: right;\">\n",
       "      <th></th>\n",
       "      <th>top_cities</th>\n",
       "      <th>top_route</th>\n",
       "      <th>top_dist</th>\n",
       "    </tr>\n",
       "  </thead>\n",
       "  <tbody>\n",
       "    <tr>\n",
       "      <th>0</th>\n",
       "      <td>[2, 4, 8, 3, 0, 6, 12, 17, 13, 14, 9, 15, 19, ...</td>\n",
       "      <td>[(2, 7), (4, 4), (6, 1), (4, 2), (1, 3), (4, 8...</td>\n",
       "      <td>79.095815</td>\n",
       "    </tr>\n",
       "    <tr>\n",
       "      <th>1</th>\n",
       "      <td>[2, 4, 1, 5, 11, 10, 16, 18, 19, 15, 9, 14, 13...</td>\n",
       "      <td>[(2, 7), (4, 4), (2, 5), (4, 7), (8, 2), (7, 8...</td>\n",
       "      <td>76.356848</td>\n",
       "    </tr>\n",
       "    <tr>\n",
       "      <th>2</th>\n",
       "      <td>[2, 4, 8, 3, 0, 6, 12, 17, 13, 14, 18, 19, 15,...</td>\n",
       "      <td>[(2, 7), (4, 4), (6, 1), (4, 2), (1, 3), (4, 8...</td>\n",
       "      <td>71.119750</td>\n",
       "    </tr>\n",
       "    <tr>\n",
       "      <th>3</th>\n",
       "      <td>[15, 19, 18, 16, 11, 10, 5, 1, 4, 2, 9, 14, 13...</td>\n",
       "      <td>[(11, 1), (13, 5), (12, 7), (11, 4), (8, 2), (...</td>\n",
       "      <td>68.116736</td>\n",
       "    </tr>\n",
       "    <tr>\n",
       "      <th>4</th>\n",
       "      <td>[2, 4, 8, 3, 0, 6, 10, 11, 15, 19, 18, 14, 12,...</td>\n",
       "      <td>[(2, 7), (4, 4), (6, 1), (4, 2), (1, 3), (4, 8...</td>\n",
       "      <td>64.452752</td>\n",
       "    </tr>\n",
       "    <tr>\n",
       "      <th>...</th>\n",
       "      <td>...</td>\n",
       "      <td>...</td>\n",
       "      <td>...</td>\n",
       "    </tr>\n",
       "    <tr>\n",
       "      <th>95</th>\n",
       "      <td>[0, 1, 2, 6, 5, 9, 10, 12, 14, 17, 18, 19, 16,...</td>\n",
       "      <td>[(1, 3), (2, 5), (2, 7), (4, 8), (4, 7), (6, 6...</td>\n",
       "      <td>37.788039</td>\n",
       "    </tr>\n",
       "    <tr>\n",
       "      <th>96</th>\n",
       "      <td>[0, 1, 2, 6, 5, 9, 10, 12, 14, 17, 18, 19, 16,...</td>\n",
       "      <td>[(1, 3), (2, 5), (2, 7), (4, 8), (4, 7), (6, 6...</td>\n",
       "      <td>37.202252</td>\n",
       "    </tr>\n",
       "    <tr>\n",
       "      <th>97</th>\n",
       "      <td>[0, 1, 2, 6, 5, 9, 10, 12, 14, 17, 18, 19, 16,...</td>\n",
       "      <td>[(1, 3), (2, 5), (2, 7), (4, 8), (4, 7), (6, 6...</td>\n",
       "      <td>37.788039</td>\n",
       "    </tr>\n",
       "    <tr>\n",
       "      <th>98</th>\n",
       "      <td>[0, 1, 2, 6, 5, 9, 10, 12, 14, 17, 18, 19, 16,...</td>\n",
       "      <td>[(1, 3), (2, 5), (2, 7), (4, 8), (4, 7), (6, 6...</td>\n",
       "      <td>37.202252</td>\n",
       "    </tr>\n",
       "    <tr>\n",
       "      <th>99</th>\n",
       "      <td>[0, 1, 2, 6, 5, 9, 10, 12, 14, 17, 18, 19, 16,...</td>\n",
       "      <td>[(1, 3), (2, 5), (2, 7), (4, 8), (4, 7), (6, 6...</td>\n",
       "      <td>37.788039</td>\n",
       "    </tr>\n",
       "  </tbody>\n",
       "</table>\n",
       "<p>100 rows × 3 columns</p>\n",
       "</div>"
      ],
      "text/plain": [
       "                                           top_cities  \\\n",
       "0   [2, 4, 8, 3, 0, 6, 12, 17, 13, 14, 9, 15, 19, ...   \n",
       "1   [2, 4, 1, 5, 11, 10, 16, 18, 19, 15, 9, 14, 13...   \n",
       "2   [2, 4, 8, 3, 0, 6, 12, 17, 13, 14, 18, 19, 15,...   \n",
       "3   [15, 19, 18, 16, 11, 10, 5, 1, 4, 2, 9, 14, 13...   \n",
       "4   [2, 4, 8, 3, 0, 6, 10, 11, 15, 19, 18, 14, 12,...   \n",
       "..                                                ...   \n",
       "95  [0, 1, 2, 6, 5, 9, 10, 12, 14, 17, 18, 19, 16,...   \n",
       "96  [0, 1, 2, 6, 5, 9, 10, 12, 14, 17, 18, 19, 16,...   \n",
       "97  [0, 1, 2, 6, 5, 9, 10, 12, 14, 17, 18, 19, 16,...   \n",
       "98  [0, 1, 2, 6, 5, 9, 10, 12, 14, 17, 18, 19, 16,...   \n",
       "99  [0, 1, 2, 6, 5, 9, 10, 12, 14, 17, 18, 19, 16,...   \n",
       "\n",
       "                                            top_route   top_dist  \n",
       "0   [(2, 7), (4, 4), (6, 1), (4, 2), (1, 3), (4, 8...  79.095815  \n",
       "1   [(2, 7), (4, 4), (2, 5), (4, 7), (8, 2), (7, 8...  76.356848  \n",
       "2   [(2, 7), (4, 4), (6, 1), (4, 2), (1, 3), (4, 8...  71.119750  \n",
       "3   [(11, 1), (13, 5), (12, 7), (11, 4), (8, 2), (...  68.116736  \n",
       "4   [(2, 7), (4, 4), (6, 1), (4, 2), (1, 3), (4, 8...  64.452752  \n",
       "..                                                ...        ...  \n",
       "95  [(1, 3), (2, 5), (2, 7), (4, 8), (4, 7), (6, 6...  37.788039  \n",
       "96  [(1, 3), (2, 5), (2, 7), (4, 8), (4, 7), (6, 6...  37.202252  \n",
       "97  [(1, 3), (2, 5), (2, 7), (4, 8), (4, 7), (6, 6...  37.788039  \n",
       "98  [(1, 3), (2, 5), (2, 7), (4, 8), (4, 7), (6, 6...  37.202252  \n",
       "99  [(1, 3), (2, 5), (2, 7), (4, 8), (4, 7), (6, 6...  37.788039  \n",
       "\n",
       "[100 rows x 3 columns]"
      ]
     },
     "execution_count": 1,
     "metadata": {},
     "output_type": "execute_result"
    }
   ],
   "source": [
    "from agente_viajero import AgenteViajero\n",
    "\n",
    "cities = [\n",
    "    (1,3), (2,5), (2,7), (4,2), (4,4), \n",
    "    (4,7), (4,8), (5,3), (6,1), (6,6), \n",
    "    (7,8), (8,2), (8,7), (9,3), (10,7), \n",
    "    (11,1), (11,4), (11,6), (12,7), (13,5),\n",
    "]\n",
    "\n",
    "av = AgenteViajero(cities, population_size=100, n_generations=100)\n",
    "av.train()\n",
    "av.result"
   ]
  },
  {
   "cell_type": "code",
   "execution_count": 5,
   "metadata": {},
   "outputs": [],
   "source": [
    "to_route = av.result['top_cities'][99]\n",
    "new_route = [(to_route[i], to_route[i+1]) for _, i in zip(to_route, range(len(to_route)-1))]"
   ]
  },
  {
   "cell_type": "code",
   "execution_count": 9,
   "metadata": {},
   "outputs": [
    {
     "data": {
      "image/png": "[encoded data removed]",
      "text/plain": [
       "<Figure size 640x480 with 1 Axes>"
      ]
     },
     "metadata": {},
     "output_type": "display_data"
    }
   ],
   "source": [
    "from matplotlib.pyplot import axes, scatter, plot, show\n",
    "\n",
    "x, y = [*zip(*cities)]\n",
    "\n",
    "ax = axes()\n",
    "ax.scatter(x,y)\n",
    "\n",
    "def connectpoints(x, y, point):\n",
    "    x1, x2 = x[point[0]], x[point[-1]]\n",
    "    y1, y2 = y[point[0]], y[point[-1]]\n",
    "    plot([x1, x2],[y1, y2], c='blue')\n",
    "\n",
    "for city in new_route:\n",
    "    connectpoints(x, y, city)\n",
    "\n",
    "show()"
   ]
  }
 ],
 "metadata": {
  "kernelspec": {
   "display_name": "Python 3.10.4 ('venv': venv)",
   "language": "python",
   "name": "python3"
  },
  "language_info": {
   "codemirror_mode": {
    "name": "ipython",
    "version": 3
   },
   "file_extension": ".py",
   "mimetype": "text/x-python",
   "name": "python",
   "nbconvert_exporter": "python",
   "pygments_lexer": "ipython3",
   "version": "3.10.4"
  },
  "orig_nbformat": 4,
  "vscode": {
   "interpreter": {
    "hash": "46f0d50908f532c4d87f4e46497f20a01f2c47f356942e2607bec2358d7bcb33"
   }
  }
 },
 "nbformat": 4,
 "nbformat_minor": 2
}
